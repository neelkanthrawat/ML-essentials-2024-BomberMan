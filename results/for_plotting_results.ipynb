{
 "cells": [
  {
   "cell_type": "code",
   "execution_count": 4,
   "metadata": {},
   "outputs": [
    {
     "name": "stdout",
     "output_type": "stream",
     "text": [
      "The highest coin collection value is: 25\n",
      "The count of the highest value is: 954\n"
     ]
    }
   ],
   "source": [
    "import json\n",
    "import numpy as np\n",
    "\n",
    "# Assuming the JSON data is stored in a file named 'data.json'\n",
    "file_path = '17x17_loot_crate_coins_25_crate_density_0.4.json'\n",
    "\n",
    "# Load the JSON data from the file\n",
    "with open(file_path, 'r') as f:\n",
    "    data = json.load(f)\n",
    "\n",
    "# Extract coins collected in each round from 'by_round'\n",
    "coins_collected = [round_info['coins'] for round_info in data['by_round'].values()]\n",
    "\n",
    "# Count the frequency of each coin collection value\n",
    "unique, counts = np.unique(coins_collected, return_counts=True)\n",
    "\n",
    "# Count the frequency of each coin collection value\n",
    "unique, counts = np.unique(coins_collected, return_counts=True)\n",
    "\n",
    "# Find the maximum coin collection value\n",
    "max_value = np.max(unique)\n",
    "\n",
    "# Find the count (frequency) of the maximum value\n",
    "max_value_count = counts[np.argmax(unique == max_value)]\n",
    "\n",
    "# Print the maximum value and its count\n",
    "print(f\"The highest coin collection value is: {max_value}\")\n",
    "print(f\"The count of the highest value is: {max_value_count}\")\n"
   ]
  },
  {
   "cell_type": "code",
   "execution_count": 10,
   "metadata": {},
   "outputs": [
    {
     "name": "stdout",
     "output_type": "stream",
     "text": [
      "The highest coin collection value is: 15\n",
      "The count of values >= 90% of the highest value is: 997\n"
     ]
    }
   ],
   "source": [
    "import json\n",
    "import numpy as np\n",
    "\n",
    "# Assuming the JSON data is stored in a file named 'data.json'\n",
    "file_path = '17x17_loot_crate_coins_15_crate_density_0.2.json'\n",
    "\n",
    "# Load the JSON data from the file\n",
    "with open(file_path, 'r') as f:\n",
    "    data = json.load(f)\n",
    "\n",
    "# Extract coins collected in each round from 'by_round'\n",
    "coins_collected = [round_info['coins'] for round_info in data['by_round'].values()]\n",
    "\n",
    "# Count the frequency of each coin collection value\n",
    "unique, counts = np.unique(coins_collected, return_counts=True)\n",
    "\n",
    "# Find the maximum coin collection value\n",
    "max_value = np.max(unique)\n",
    "\n",
    "# Calculate 90% of the maximum value\n",
    "ninety_percent_value = 0.9 * max_value\n",
    "\n",
    "# Count the total occurrences of values >= 90% of the maximum value\n",
    "count_ge_90_percent = np.sum(counts[unique >= ninety_percent_value])\n",
    "\n",
    "# Print the maximum value and the count of values >= 90% of the maximum value\n",
    "print(f\"The highest coin collection value is: {max_value}\")\n",
    "print(f\"The count of values >= 90% of the highest value is: {count_ge_90_percent}\")\n"
   ]
  },
  {
   "cell_type": "code",
   "execution_count": null,
   "metadata": {},
   "outputs": [],
   "source": []
  },
  {
   "cell_type": "code",
   "execution_count": null,
   "metadata": {},
   "outputs": [],
   "source": []
  }
 ],
 "metadata": {
  "kernelspec": {
   "display_name": "base",
   "language": "python",
   "name": "python3"
  },
  "language_info": {
   "codemirror_mode": {
    "name": "ipython",
    "version": 3
   },
   "file_extension": ".py",
   "mimetype": "text/x-python",
   "name": "python",
   "nbconvert_exporter": "python",
   "pygments_lexer": "ipython3",
   "version": "3.8.8"
  }
 },
 "nbformat": 4,
 "nbformat_minor": 2
}
